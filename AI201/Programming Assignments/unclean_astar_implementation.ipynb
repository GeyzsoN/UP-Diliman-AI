{
 "cells": [
  {
   "cell_type": "markdown",
   "metadata": {},
   "source": [
    "# **AI201 - Programming Assignment #1**\n",
    "#### *Implementing the A* Algorithm*\n",
    "\n",
    "Instructor: Dr. Pros Naval\n",
    "\n",
    "Submitted by: Geyzson Kristoffer\n",
    "\n",
    "October 21, 2023"
   ]
  },
  {
   "cell_type": "code",
   "execution_count": 12,
   "metadata": {},
   "outputs": [],
   "source": [
    "import numpy as np\n",
    "import pandas as pd\n",
    "import matplotlib.pyplot as plt\n",
    "from copy import deepcopy\n",
    "from IPython.display import clear_output\n",
    "import time"
   ]
  },
  {
   "cell_type": "code",
   "execution_count": 13,
   "metadata": {},
   "outputs": [],
   "source": [
    "# to prevent unintended modifications on my dataframe\n",
    "def disabled_delete(*args, **kwargs):\n",
    "    raise RuntimeError(\"Deletion is disabled for this DataFrame\")\n",
    "\n",
    "# Disabling df deletion methods\n",
    "setattr(pd.DataFrame, \"drop\", disabled_delete)\n",
    "setattr(pd.DataFrame, \"dropna\", disabled_delete)\n",
    "setattr(pd.DataFrame, \"drop_duplicates\", disabled_delete)"
   ]
  },
  {
   "cell_type": "code",
   "execution_count": 14,
   "metadata": {},
   "outputs": [],
   "source": [
    "# for rendering purposes\n",
    "def render_puzzle(state, clear_prev=False):\n",
    "    if clear_prev:\n",
    "        clear_output(wait=True)\n",
    "\n",
    "    fig, ax = plt.subplots(figsize=(6, 6))\n",
    "    \n",
    "    empty_tile_color = 'black'\n",
    "    ax.set_facecolor(empty_tile_color)\n",
    "    \n",
    "    border_thickness = 0.05\n",
    "    cell_size = 1 - 2 * border_thickness\n",
    "\n",
    "    for i in range(3):\n",
    "        for j in range(3):\n",
    "            cell_value = state[i, j]\n",
    "            if cell_value == '*':\n",
    "                face_color = empty_tile_color\n",
    "                text_color = empty_tile_color\n",
    "            else:\n",
    "                face_color = 'white'\n",
    "                text_color = 'black'\n",
    "            \n",
    "            ax.add_patch(plt.Rectangle((j + border_thickness, 2 - i + border_thickness), cell_size, cell_size, facecolor=face_color, edgecolor=empty_tile_color, linewidth=2*border_thickness))\n",
    "            ax.text(j + 0.5, 2 - i + 0.5, str(cell_value), size=20, ha='center', va='center', color=text_color)\n",
    "\n",
    "    plt.title(\"8 Puzzle AI using A*\", fontsize=16, fontweight='bold', pad=20)\n",
    "    ax.text(1.5, 3.05, \"Geyzson Kristoffer\", ha='center', va='center', fontsize=10, fontstyle='italic')\n",
    "\n",
    "\n",
    "    plt.xlim(0, 3)\n",
    "    plt.ylim(0, 3)\n",
    "    ax.set_aspect('equal', 'box')\n",
    "    ax.axis('off')\n",
    "    plt.show()\n"
   ]
  },
  {
   "cell_type": "code",
   "execution_count": 15,
   "metadata": {},
   "outputs": [],
   "source": [
    "# reading the file\n",
    "def read_states(file_path):\n",
    "\n",
    "    initial_state = []\n",
    "    goal_state = []\n",
    "    \n",
    "    with open(file_path, 'r') as file:\n",
    "        lines = file.readlines()\n",
    "        start_index = lines.index(\"start\\n\") + 1  # Find the line after \"start\"\n",
    "        goal_index = lines.index(\"goal\\n\") + 1  # Find the line after \"goal\"\n",
    "        \n",
    "        # Read initial state\n",
    "        for i in range(start_index, start_index + 3):\n",
    "            row = lines[i].strip().split(\" \")\n",
    "            initial_state.append([int(x) if x != '*' else '*' for x in row])\n",
    "        \n",
    "        # Read goal state\n",
    "        for i in range(goal_index, goal_index + 3):\n",
    "            row = lines[i].strip().split(\" \")\n",
    "            goal_state.append([int(x) if x != '*' else '*' for x in row])\n",
    "            \n",
    "    return np.array(initial_state), np.array(goal_state)\n",
    "\n",
    "file_path = \"astar_in.txt\"  \n",
    "initial_state, goal_state = read_states(file_path)"
   ]
  },
  {
   "cell_type": "code",
   "execution_count": 16,
   "metadata": {},
   "outputs": [],
   "source": [
    "# heuristics\n",
    "\n",
    "def wrong_count(state, goal_state):\n",
    "    state = state.copy()\n",
    "    goal_state = goal_state.copy()\n",
    "    return sum([1 for i in range(len(state.flatten())) if ((state.flatten()[i] != goal_state.flatten()[i]) and (state.flatten()[i] != '*'))])\n",
    "\n",
    "def manhattan_distance(state, goal_state):\n",
    "\n",
    "    md_list = []\n",
    "    arr = deepcopy(state)\n",
    "\n",
    "    for i in range(len(arr[0])):\n",
    "        for j in range(len(arr[1])):\n",
    "            if arr[i][j] == '*':\n",
    "                md_list.append(0)\n",
    "                continue\n",
    "            else:\n",
    "                row, col = np.where(goal_state == arr[i][j])\n",
    "                md_list.append(abs(col[0]-j) + abs(row[0]-i))\n",
    "\n",
    "    return sum(md_list)\n",
    "\n",
    "def sequence_score(state, goal_state):\n",
    "    node = state.copy()\n",
    "    gs = goal_state.copy()\n",
    "\n",
    "    node_sequence = [\n",
    "        node[0, 0], node[0, 1], node[0, 2],\n",
    "        node[1, 2], node[2, 2], node[2, 1],\n",
    "        node[2, 0], node[1, 0]\n",
    "    ]\n",
    "    \n",
    "    actual_next = node_sequence[1:]\n",
    "    actual_next.extend([node_sequence[0]])\n",
    "\n",
    "    goal_next = [str(int(tile)+1) if tile != '*' else None for tile in node_sequence]\n",
    "\n",
    "    try:\n",
    "        goal_next[goal_next.index('9')] = '1'\n",
    "    except ValueError:\n",
    "        pass\n",
    "\n",
    "    sequence_score = 0\n",
    "    sequence_score = sum([2 for i in range(len(goal_next)) if (goal_next[i] != actual_next[i]) and (goal_next[i] != None)])\n",
    "\n",
    "    if state[1, 1] != '*':\n",
    "        sequence_score += 1\n",
    "\n",
    "    return sequence_score"
   ]
  },
  {
   "cell_type": "code",
   "execution_count": 17,
   "metadata": {},
   "outputs": [],
   "source": [
    "# adding row and at the same time calculating the value of the heuristic\n",
    "def add_row(df, node, parent_id, heuristic):\n",
    "    if node is None:\n",
    "        return df\n",
    "\n",
    "    df = df.copy()\n",
    "    GS = df.loc[0, 'node']   \n",
    "\n",
    "    g = (df.loc[parent_id, 'g'] + 1) if parent_id != None else 0\n",
    "    wc = wrong_count(node, GS)\n",
    "    P = manhattan_distance(node, GS)\n",
    "    S = sequence_score(node, GS)\n",
    "    f = 0\n",
    "\n",
    "    if heuristic == 'wrong_count':\n",
    "        f = g + wc\n",
    "    elif heuristic == 'manhattan_distance':\n",
    "        f = g + P\n",
    "    elif heuristic == 'sequence_score':\n",
    "        f = g + P + (3*S)\n",
    "    \n",
    "    # [7] Check if node is already in the open list\n",
    "    existing_node_open = df[(df['node'].apply(lambda x: np.array_equal(x, node))) & (df['open'] == True)]\n",
    "    \n",
    "    if not existing_node_open.empty:\n",
    "        existing_node_id = existing_node_open.iloc[0]['id']\n",
    "        if f < df.loc[existing_node_id, 'f']:\n",
    "            df.loc[existing_node_id, 'f'] = f\n",
    "            df.loc[existing_node_id, 'g'] = g\n",
    "            df.loc[existing_node_id, 'parent_id'] = parent_id\n",
    "            df.loc[existing_node_id, 'open'] = True\n",
    "        return df\n",
    "\n",
    "    # [6] adding new node, putting it at the open list, and directing pointer back to n\n",
    "    df.loc[len(df)] = {'id': len(df), 'node': node,\n",
    "                       'f': f, 'g': g, 'wc': wc, 'P': P, 'S': S, 'parent_id': parent_id, 'open': True, 'closed': False}\n",
    "\n",
    "    return df\n",
    "\n",
    "\n"
   ]
  },
  {
   "cell_type": "code",
   "execution_count": 18,
   "metadata": {},
   "outputs": [],
   "source": [
    "# returns the state moved in a direction\n",
    "def move(state, direction):\n",
    "\n",
    "    arr = state.copy()\n",
    "    directions = {\n",
    "        'up': (-1, 0),\n",
    "        'down': (1, 0),\n",
    "        'left': (0, -1),\n",
    "        'right': (0, 1)\n",
    "    }\n",
    "\n",
    "    row_change, col_change = directions.get(direction, (0, 0))\n",
    "    new_state = deepcopy(arr)\n",
    "\n",
    "    star_index = np.where(arr == '*')\n",
    "\n",
    "    r, c = star_index[0][0], star_index[1][0]\n",
    "    \n",
    "    # if within the bounds\n",
    "    if (0 <= r + row_change < len(new_state)) and (0 <= c + col_change < len(new_state[0])):\n",
    "        new_state[r][c], new_state[r + row_change][c + col_change] = new_state[r + row_change][c + col_change], new_state[r][c]\n",
    "        return np.array(new_state)\n",
    "    else:\n",
    "        return None "
   ]
  },
  {
   "cell_type": "code",
   "execution_count": 19,
   "metadata": {},
   "outputs": [],
   "source": [
    "# path tracing and animation\n",
    "def trace_path(df, solution_id):\n",
    "    path = []\n",
    "    parent_id = solution_id\n",
    "    path.append(parent_id)\n",
    "    while parent_id != None:\n",
    "        parent_id = df[df['id'] == parent_id]['parent_id'].iloc[0]\n",
    "        path.append(parent_id)\n",
    "    \n",
    "    path = path[::-1]\n",
    "    path = [node for node in path if node != None]\n",
    "\n",
    "    return path\n",
    "\n",
    "def animate_path(df, path):\n",
    "\n",
    "    time.sleep(1)\n",
    "    clear_output(wait=True)\n",
    "    fig, ax = plt.subplots(figsize=(6, 6))\n",
    "    ax.text(0.5, 0.65, \"Goal Reached\", ha='center', va='center', fontsize=24, fontweight='bold')\n",
    "    ax.text(0.5, 0.5, \"Replaying the best path in\", ha='center', va='center', fontsize=16)\n",
    "    ax.axis('off')\n",
    "    plt.show()\n",
    "    time.sleep(2)  # wait for 2 seconds\n",
    "\n",
    "    # 3-second countdown\n",
    "    for count in range(3, 0, -1):\n",
    "        clear_output(wait=True)\n",
    "        fig, ax = plt.subplots(figsize=(6, 6))\n",
    "        ax.text(0.5, 0.5, str(count), ha='center', va='center', fontsize=60, fontweight='bold')\n",
    "        ax.axis('off')\n",
    "        plt.show()\n",
    "        time.sleep(1)  # wait for 1 second\n",
    "\n",
    "    # play the animation\n",
    "    for node_id in path:\n",
    "        render_puzzle(df[df['id'] == node_id]['node'].iloc[0], clear_prev=True)\n",
    "        _f = df.loc[node_id, 'f']\n",
    "        _g = df.loc[node_id, 'g']\n",
    "        _wc = df.loc[node_id, 'wc']\n",
    "        _P = df.loc[node_id, 'P']\n",
    "        _S = df.loc[node_id, 'S']\n",
    "\n",
    "        print(f'f: {_f} | g: {_g} | wc: {_wc} | P: {_P} | S: {_S} ')\n",
    "        print('total nodes expanded: ', len(df)-2)\n",
    "\n",
    "        time.sleep(0.5)  # display each frame for 0.5 seconds\n"
   ]
  },
  {
   "cell_type": "code",
   "execution_count": 20,
   "metadata": {},
   "outputs": [],
   "source": [
    "# astar implementation\n",
    "# the numbers following the pseudocode on page 21 of Lecture 3B are indicated in the comments with []\n",
    "\n",
    "def astar(initial_state, goal_state, heuristic, max_iterations=1000, path_animation=True):\n",
    "\n",
    "    initial_state = initial_state.copy()\n",
    "    goal_state = goal_state.copy()\n",
    "\n",
    "    df = pd.DataFrame(columns=['id', 'node', 'f', 'g', 'wc', 'P', 'S', 'parent_id', 'open', 'closed'])\n",
    "\n",
    "    # adding the goal node to the df as the first row so i can reference it later\n",
    "    df.loc[len(df)] = {'id': len(df), 'node': goal_state, 'f': 0, 'g': 0, 'wc': 0, 'P': 0, 'S': 0, 'parent_id': 0, 'open': False, 'closed': False}\n",
    "\n",
    "    # [1] adding the start node s to the open list and computing its f value\n",
    "    df = add_row(df, initial_state, None, heuristic)\n",
    "\n",
    "    # setting the current node to the start node s\n",
    "    node = df.loc[1, 'node']\n",
    "\n",
    "\n",
    "    for i in range(max_iterations):\n",
    "\n",
    "        # [2] if open is empty, exit with failure\n",
    "        if df[df['open'] == True].empty:\n",
    "            print(\"No more nodes to explore!\")\n",
    "            break\n",
    "\n",
    "        print(f'Iteration: {i}')\n",
    "\n",
    "        # [3] looking for the node with the lowest f value in the open list\n",
    "        frontier_node_id = df[df['open'] == True].sort_values(by=['f'], ascending=True).iloc[0].loc['id']\n",
    "\n",
    "        # [3] removing the node with the lowest f value from the open list and adding it to the closed list\n",
    "        df.loc[frontier_node_id, 'open'] = False\n",
    "        df.loc[frontier_node_id, 'closed'] = True\n",
    "\n",
    "        # [3] setting the current node to the node with the lowest f value\n",
    "        node = df.loc[frontier_node_id, 'node']\n",
    "\n",
    "        # displaying the current node\n",
    "        render_puzzle(node, clear_prev=True)\n",
    "        _f = df.loc[frontier_node_id, 'f']\n",
    "        _g = df.loc[frontier_node_id, 'g']\n",
    "        _wc = df.loc[frontier_node_id, 'wc']\n",
    "        _P = df.loc[frontier_node_id, 'P']\n",
    "        _S = df.loc[frontier_node_id, 'S']\n",
    "\n",
    "        print('heuristic: ', heuristic)\n",
    "        if heuristic == 'wrong_count':\n",
    "            print(f'f: {_f} | g: {_g} | h: {_wc} ')\n",
    "        elif heuristic == 'manhattan_distance':\n",
    "            print(f'f: {_f} | g: {_g} | h: {_P} ')\n",
    "        elif heuristic == 'sequence_score':\n",
    "            print(f'f: {_f} | g: {_g} | P: {_P} | S: {_S} ')\n",
    "        print('total nodes expanded: ', len(df)-2)\n",
    "\n",
    "        # [4] if the current node is the goal node, exit with success\n",
    "        if np.array_equal(node, goal_state) == True:\n",
    "            # [4] tracing path\n",
    "            path = trace_path(df, frontier_node_id)\n",
    "            print(\"Goal reached!\")\n",
    "\n",
    "            if path_animation:\n",
    "                animate_path(df, path)\n",
    "                \n",
    "            print('path taken by node id', path)\n",
    "            break\n",
    "\n",
    "        # [5] expanding node n by generating all its successors\n",
    "        # the f values are computed within the add_row function\n",
    "        df = add_row(df, move(node, 'up'), frontier_node_id, heuristic)\n",
    "        df = add_row(df, move(node, 'down'), frontier_node_id, heuristic)\n",
    "        df = add_row(df, move(node, 'left'), frontier_node_id, heuristic)\n",
    "        df = add_row(df, move(node, 'right'), frontier_node_id, heuristic)\n",
    "\n",
    "\n",
    "    \n",
    "    return df"
   ]
  },
  {
   "cell_type": "markdown",
   "metadata": {},
   "source": [
    "Run using wrong count"
   ]
  },
  {
   "cell_type": "code",
   "execution_count": 21,
   "metadata": {},
   "outputs": [
    {
     "data": {
      "image/png": "[encoded data removed]",
      "text/plain": [
       "<Figure size 600x600 with 1 Axes>"
      ]
     },
     "metadata": {},
     "output_type": "display_data"
    },
    {
     "name": "stdout",
     "output_type": "stream",
     "text": [
      "f: 18 | g: 18 | wc: 0 | P: 0 | S: 0 \n",
      "total nodes expanded:  3734\n",
      "path taken by node id [1, 5, 13, 23, 46, 126, 169, 375, 376, 383, 499, 957, 1611, 2064, 2672, 2675, 3430, 3611, 3612]\n"
     ]
    }
   ],
   "source": [
    "heuristics = ['wrong_count', 'manhattan_distance', 'sequence_score']\n",
    "\n",
    "\"\"\" note:\n",
    "in a local machine here are the runtimes for each heuristic:\n",
    "wrong_count: 3m 2.5s\n",
    "manhattan_distance: 21.4s\n",
    "sequence_score: 5.0s\n",
    "\n",
    "\"\"\"\n",
    "df = astar(initial_state, goal_state,\n",
    "            heuristic=heuristics[0],\n",
    "            max_iterations=100000,\n",
    "            path_animation=True) # set path animation to false if you only want to see the solving and not the path  "
   ]
  },
  {
   "cell_type": "markdown",
   "metadata": {},
   "source": [
    "Run using manhattan distance"
   ]
  },
  {
   "cell_type": "code",
   "execution_count": 23,
   "metadata": {},
   "outputs": [
    {
     "data": {
      "image/png": "[encoded data removed]",
      "text/plain": [
       "<Figure size 600x600 with 1 Axes>"
      ]
     },
     "metadata": {},
     "output_type": "display_data"
    },
    {
     "name": "stdout",
     "output_type": "stream",
     "text": [
      "f: 18 | g: 18 | wc: 0 | P: 0 | S: 0 \n",
      "total nodes expanded:  622\n",
      "path taken by node id [1, 5, 9, 12, 28, 64, 157, 159, 160, 191, 200, 377, 407, 499, 529, 532, 578, 603, 604]\n"
     ]
    }
   ],
   "source": [
    "df = astar(initial_state, goal_state,\n",
    "            heuristic=heuristics[1],\n",
    "            max_iterations=100000,\n",
    "            path_animation=True) # set path animation to false if you only want to see the solving and not the path  "
   ]
  },
  {
   "cell_type": "markdown",
   "metadata": {},
   "source": [
    "Run using Nilsson's Sequence Score"
   ]
  },
  {
   "cell_type": "code",
   "execution_count": 24,
   "metadata": {},
   "outputs": [
    {
     "data": {
      "image/png": "[encoded data removed]",
      "text/plain": [
       "<Figure size 600x600 with 1 Axes>"
      ]
     },
     "metadata": {},
     "output_type": "display_data"
    },
    {
     "name": "stdout",
     "output_type": "stream",
     "text": [
      "f: 18 | g: 18 | wc: 0 | P: 0 | S: 0 \n",
      "total nodes expanded:  142\n",
      "path taken by node id [1, 5, 9, 12, 25, 30, 32, 37, 38, 43, 45, 49, 126, 127, 131, 134, 136, 140, 141]\n"
     ]
    }
   ],
   "source": [
    "df = astar(initial_state, goal_state,\n",
    "            heuristic=heuristics[2],\n",
    "            max_iterations=100000,\n",
    "            path_animation=True) # set path animation to false if you only want to see the solving and not the path  "
   ]
  }
 ],
 "metadata": {
  "kernelspec": {
   "display_name": "Python 3",
   "language": "python",
   "name": "python3"
  },
  "language_info": {
   "codemirror_mode": {
    "name": "ipython",
    "version": 3
   },
   "file_extension": ".py",
   "mimetype": "text/x-python",
   "name": "python",
   "nbconvert_exporter": "python",
   "pygments_lexer": "ipython3",
   "version": "3.10.8"
  }
 },
 "nbformat": 4,
 "nbformat_minor": 2
}
